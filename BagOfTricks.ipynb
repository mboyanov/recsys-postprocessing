{
 "cells": [
  {
   "cell_type": "code",
   "execution_count": 1,
   "metadata": {
    "slideshow": {
     "slide_type": "skip"
    }
   },
   "outputs": [],
   "source": [
    "import pandas as pd\n",
    "from scipy.sparse import coo_matrix\n",
    "from sklearn.metrics.pairwise import cosine_similarity\n",
    "from ipywidgets import interact, fixed, FloatSlider\n",
    "import pathlib\n",
    "import pickle as pkl\n",
    "import numpy as np\n",
    "import seaborn as sns\n",
    "import matplotlib.pyplot as plt\n",
    "import fastprogress\n",
    "\n",
    "sns.set()\n",
    "sns.set_style(\"whitegrid\")\n"
   ]
  },
  {
   "cell_type": "markdown",
   "metadata": {
    "slideshow": {
     "slide_type": "slide"
    }
   },
   "source": [
    "# Bag of Tricks for Recommender Systems Post-processing    \n",
    "Martin Boyanov     \n",
    "10.01.2022    \n",
    "Dev.BG, Zoom\n",
    "\n",
    "<hr>"
   ]
  },
  {
   "cell_type": "markdown",
   "metadata": {
    "slideshow": {
     "slide_type": "slide"
    }
   },
   "source": [
    "About the speaker:\n",
    "1. Working with recommender systems for the past two years @ Smule Bulgaria\n",
    "2. Worked on NLP problems and graph processing\n",
    "3. MSc Information Retrieval and Knowledge Discovery @ Sofia University\n",
    "4. BEng Software Engineering with Managament @ Edinburgh University\n",
    "\n",
    "<img src=\"img/marty.jpg\" width=\"500\" style=\"border-radius:15px\">\n",
    "\n",
    "Contacts:     \n",
    "[mboyanov@gmail.com](mailto:mboyanov@gmail.com)    \n",
    "[LinkedIn](https://www.linkedin.com/in/martin-boyanov-1ab2124a/)\n",
    "\n",
    "<hr> \n"
   ]
  },
  {
   "cell_type": "markdown",
   "metadata": {},
   "source": [
    "## The Demo\n",
    "\n",
    "For demonstration purposes, we will be using a dataset and interactive widgets to better grasp the ideas. \n",
    "\n",
    "Technology: [Jupyter notebook](https://jupyter.org/) & [Voila](https://voila.readthedocs.io)\n",
    "\n",
    "Data: [MovieLens latest](https://grouplens.org/datasets/movielens/) - 27,000,000 ratings for 58,000 movies made by 280,000 users\n",
    "\n",
    "Model: It doesn't matter, but we will be working with a similarity model. Given a movie, recommend similar movies.\n",
    "\n",
    "<hr> \n",
    "\n",
    "Examples: `Memento`, `Yu-gi-Oh!`, `Aliens`"
   ]
  },
  {
   "cell_type": "code",
   "execution_count": 14,
   "metadata": {},
   "outputs": [],
   "source": [
    "BASE_PATH = pathlib.Path(\"/data/data/movielens/\")\n",
    "BASE_PATH.mkdir(exist_ok=True, parents=True)\n",
    "\n",
    "if not (BASE_PATH / 'ml-latest.zip').exists():\n",
    "    !wget -P {BASE_PATH} https://files.grouplens.org/datasets/movielens/ml-latest.zip\n",
    "if not (BASE_PATH / 'ml-latest').exists():\n",
    "    !unzip {BASE_PATH / \"ml-latest.zip\"} -d {BASE_PATH}  "
   ]
  },
  {
   "cell_type": "code",
   "execution_count": 3,
   "metadata": {
    "slideshow": {
     "slide_type": "skip"
    }
   },
   "outputs": [],
   "source": [
    "movies = pd.read_csv(BASE_PATH / \"ml-latest\" / \"movies.csv\")\n",
    "data = pd.read_csv(BASE_PATH / \"ml-latest\" / \"ratings.csv\")\n",
    "user_bias = data.groupby('userId')['rating'].mean()\n",
    "user_bias.name = 'user_bias'\n",
    "data = pd.merge(data, user_bias, left_on='userId', right_index= True)\n",
    "data['debiased_rating'] = data['rating'] - data['user_bias']"
   ]
  },
  {
   "cell_type": "code",
   "execution_count": 4,
   "metadata": {
    "slideshow": {
     "slide_type": "skip"
    }
   },
   "outputs": [],
   "source": [
    "movie_counts = data.groupby('movieId').size()\n",
    "common_movies = movie_counts.loc[movie_counts > 5]\n",
    "data = data.loc[data.movieId.isin(common_movies.index)]\n",
    "movies = movies.loc[movies.movieId.isin(common_movies.index)]"
   ]
  },
  {
   "cell_type": "code",
   "execution_count": 5,
   "metadata": {
    "slideshow": {
     "slide_type": "skip"
    }
   },
   "outputs": [],
   "source": [
    "movieId2id = {}\n",
    "for i, (movieId, count) in enumerate(data.movieId.value_counts().iteritems()):\n",
    "    movieId2id[movieId] = i"
   ]
  },
  {
   "cell_type": "code",
   "execution_count": 6,
   "metadata": {
    "slideshow": {
     "slide_type": "skip"
    }
   },
   "outputs": [],
   "source": [
    "data['movieId2'] = data['movieId'].map(movieId2id)\n",
    "movies['movieId2'] = movies['movieId'].map(movieId2id)"
   ]
  },
  {
   "cell_type": "code",
   "execution_count": 7,
   "metadata": {},
   "outputs": [],
   "source": [
    "movies = movies.set_index('movieId2').sort_index()"
   ]
  },
  {
   "cell_type": "code",
   "execution_count": 8,
   "metadata": {
    "slideshow": {
     "slide_type": "skip"
    }
   },
   "outputs": [],
   "source": [
    "def compute_similarities():\n",
    "    matrix = coo_matrix((data['debiased_rating'], (data['userId'], data['movieId2'])))\n",
    "    matrix = matrix.tocsr()\n",
    "    sims = cosine_similarity(matrix.transpose(),dense_output=False)\n",
    "    sims.setdiag(0)\n",
    "    return sims"
   ]
  },
  {
   "cell_type": "code",
   "execution_count": 9,
   "metadata": {
    "slideshow": {
     "slide_type": "skip"
    }
   },
   "outputs": [],
   "source": [
    "def get_similarities():\n",
    "    sims_path= pathlib.Path(\"data/similarities.pkl\")\n",
    "    if sims_path.exists():\n",
    "        with sims_path.open('rb') as f:\n",
    "            return pkl.load(f)\n",
    "    else:\n",
    "        sims = compute_similarities()\n",
    "        sims_path.parent.mkdir(exist_ok=True)\n",
    "        with sims_path.open('wb') as f:\n",
    "            pkl.dump(sims, f)\n",
    "        return sims"
   ]
  },
  {
   "cell_type": "code",
   "execution_count": 10,
   "metadata": {},
   "outputs": [],
   "source": [
    "# For some reason dumping via pickle on google colab lead to memory exhaustion.\n",
    "# Thus, we don't use the caching mechanism there\n",
    "RUNNING_IN_COLLAB = 'google.colab' in str(get_ipython())\n",
    "if RUNNING_IN_COLLAB:\n",
    "    sims = compute_similarities()\n",
    "else:\n",
    "    sims = get_similarities()"
   ]
  },
  {
   "cell_type": "code",
   "execution_count": 11,
   "metadata": {},
   "outputs": [],
   "source": [
    "def get_similar_to(idx, topn=10):\n",
    "    movie = movies.loc[idx]\n",
    "    sim_array = sims[idx].toarray()[0]\n",
    "    sorted_array = sim_array.argsort()[::-1]\n",
    "    indices = sorted_array\n",
    "    if topn is not None:\n",
    "        indices = sorted_array[:topn]\n",
    "    return movies.loc[indices]"
   ]
  },
  {
   "cell_type": "code",
   "execution_count": 12,
   "metadata": {},
   "outputs": [
    {
     "data": {
      "application/vnd.jupyter.widget-view+json": {
       "model_id": "3835004009dd4ad9ba5f900a21387f58",
       "version_major": 2,
       "version_minor": 0
      },
      "text/plain": [
       "interactive(children=(Text(value='Memento \\\\(', description='title'), Output()), _dom_classes=('widget-interac…"
      ]
     },
     "metadata": {},
     "output_type": "display_data"
    }
   ],
   "source": [
    "@interact(title=\"Memento \\(\", sim_fn = fixed(get_similar_to))\n",
    "def get_similar_to_text(title:str, sim_fn= get_similar_to):\n",
    "    matching_movies = movies.loc[movies.title.str.lower().str.contains(title.lower())]\n",
    "    if len(matching_movies) == 1:\n",
    "        movie = matching_movies.iloc[0]\n",
    "        display(f\"Recommendations for {movie['title']}\")\n",
    "        display(sim_fn(matching_movies.index[0])[['title']].style.hide_index())\n",
    "    else:\n",
    "        display(\"Multiple matching movies. Please fill in the title.\")\n",
    "        display(matching_movies)"
   ]
  },
  {
   "cell_type": "markdown",
   "metadata": {},
   "source": [
    "\n",
    "## Concepts in Recommender Systems \n",
    "\n",
    "Biases:\n",
    "\n",
    "*Popularity Bias* - popular items are recommended more often\n",
    "\n",
    "*Position Bias* - top recommended items are clicked on more often \n",
    "\n",
    "Left unattended, these biases create a *feedback loop*.\n",
    "\n",
    "Properties:\n",
    "\n",
    "*Diversity* - recommendations should be diverse    \n",
    "*Serendipity* - recommendations should be surprising in a good way     \n",
    "*Freshness* - recommendations should change, they should be dynamic and adapt to the user's taste or need.    \n",
    "\n",
    "<hr>\n",
    "\n",
    "## Agenda:\n",
    "\n",
    "1. Filtering\n",
    "2. Grouping\n",
    "3. Reranking\n",
    "    1. Dither\n",
    "    2. Inverse-User Frequency\n",
    "    3. New Item/User Boost\n",
    "    4. Similarity Penalty\n",
    "    5. Utility Model\n",
    "    6. Pricing/Profit Considerations\n",
    "4. Summary\n",
    "\n",
    "\n",
    "<hr>\n",
    "   "
   ]
  },
  {
   "cell_type": "markdown",
   "metadata": {},
   "source": [
    "## Filtering\n",
    "\n",
    "Recommender systems algorithms lack a lot of real-world information and context. If we blindly apply them, we run the risk of recommending inappropriate content. Example post-filters:\n",
    "1. Remove deleted items\n",
    "2. Remove content from a blocked user\n",
    "3. Remove inappropriate content - e.g. nudity, violence, fake news, etc. \n",
    "4. Remove horror movies when the current context is a comedy\n",
    "5. Remove content that is unavailable in the user's country\n",
    "\n",
    "A special case of filtering that increases diversity and serendipity is to *remove content that the user has already consumed*. It is still a good idea to show these items, but under a separate category like \"Buy Again\" or \"Continue Watching\".\n",
    "\n",
    "\n",
    "<hr>"
   ]
  },
  {
   "cell_type": "markdown",
   "metadata": {},
   "source": [
    "## Grouping\n",
    "\n",
    "Content comes in groups. For movies and books, those would be series like \"Harry Potter\" or \"Lord of the Rings\". Most recommender systems are really good at discovering these groups on their own. The problem is that during inference, the output would contain multiple representatives of the same group, which might be annoying. \n",
    "Let's try *Harry Potter*, *Pirates of the Carribean*, *The Lord of the Rings*: "
   ]
  },
  {
   "cell_type": "code",
   "execution_count": 20,
   "metadata": {},
   "outputs": [
    {
     "data": {
      "application/vnd.jupyter.widget-view+json": {
       "model_id": "ab9c2ae786e44666b0d98a3541f16c34",
       "version_major": 2,
       "version_minor": 0
      },
      "text/plain": [
       "interactive(children=(Text(value=\"Harry Potter and the Sorcerer's Stone\", description='title'), Output()), _do…"
      ]
     },
     "metadata": {},
     "output_type": "display_data"
    }
   ],
   "source": [
    "interact(get_similar_to_text, title=\"Harry Potter and the Sorcerer's Stone\", sim_fn=fixed(get_similar_to));"
   ]
  },
  {
   "cell_type": "markdown",
   "metadata": {},
   "source": [
    "In Smule, users can create different performances based on the same song. At one point, we had an algorithm which did not take grouping into account. A post-hoc analysis revealed that at one point we had served an impression with **22 duplicates out of a total of 25 items returned**."
   ]
  },
  {
   "cell_type": "markdown",
   "metadata": {},
   "source": [
    "In any case, it might be a good idea to **discover these groups and select or sample representatives**.\n",
    "\n",
    "<hr>"
   ]
  },
  {
   "cell_type": "markdown",
   "metadata": {},
   "source": [
    "# Reranking\n",
    "\n",
    "Reranking is the most common approach to post-process recommendations. We still show the same set of recommendations, but we change the order they are displayed.\n",
    "We will discuss:\n",
    "\n",
    "1. Dither\n",
    "2. Inverse-User Frequency\n",
    "3. New User or Item Boost\n",
    "4. Similarity Penalty\n",
    "5. The Utility Model\n",
    "6. Pricing Considerations"
   ]
  },
  {
   "cell_type": "markdown",
   "metadata": {},
   "source": [
    "## Dither"
   ]
  },
  {
   "cell_type": "markdown",
   "metadata": {},
   "source": [
    "Dither is a technique where we reorder the recommendations by adding random noise. The degree of randomness is controlled and it is assymetric - the top of the list is reordered less frequently than the bottom.\n",
    "\n",
    "It happens according to this formula:\n",
    "\n",
    "$$ ditherScore = log(rank) + N(0, log(eps))$$ \n",
    "\n",
    "In effect, due to the log transform of the rank, items that originally appear towards the top of the list are more likely to stay on top."
   ]
  },
  {
   "cell_type": "code",
   "execution_count": 26,
   "metadata": {},
   "outputs": [
    {
     "data": {
      "application/vnd.jupyter.widget-view+json": {
       "model_id": "6846a6a2096f4992aceaf22ba02a82ef",
       "version_major": 2,
       "version_minor": 0
      },
      "text/plain": [
       "interactive(children=(FloatSlider(value=1.15, description='eps', max=3.0, min=1.0), IntSlider(value=1001, desc…"
      ]
     },
     "metadata": {},
     "output_type": "display_data"
    }
   ],
   "source": [
    "@interact(eps=FloatSlider(1.15,min = 1, max= 3))\n",
    "def demo_dither(eps=1.15, seed=1001):\n",
    "    fig, ax = plt.subplots(figsize=(12,5))\n",
    "    ax.set_ylabel(\"log rank + noise\")\n",
    "    np.random.seed(seed)\n",
    "    pd.Series(np.log(np.arange(50) + 1)).plot(style='o-', ax =ax, lw=2, label='Original')\n",
    "    pd.Series(np.log(np.arange(50) + 1) + np.random.randn(50) * np.log(eps)).plot(style='o-',lw=2, ax=ax,label='Dithered')\n",
    "    sns.despine(ax=ax)\n",
    "    fig.legend()\n"
   ]
  },
  {
   "cell_type": "code",
   "execution_count": 27,
   "metadata": {},
   "outputs": [],
   "source": [
    "def compute_diffs():\n",
    "    res = np.zeros(99)\n",
    "    for row in fastprogress.progress_bar(sims, total=sims.shape[0]):\n",
    "\n",
    "        denserow = row.todense().tolist()[0]\n",
    "        sortedrow = sorted(denserow)\n",
    "        top100 = pd.Series(sortedrow)[-100:]\n",
    "\n",
    "        diff = top100.diff().dropna()\n",
    "\n",
    "        res += diff[::-1].values\n",
    "    res = res/ sims.shape[0]\n",
    "    return res\n",
    "\n",
    "def get_diffs():\n",
    "    diffs_path= pathlib.Path(\"data/diffs.pkl\")\n",
    "    if diffs_path.exists():\n",
    "        with diffs_path.open('rb') as f:\n",
    "            return pkl.load(f)\n",
    "    else:\n",
    "        diffs = compute_diffs()\n",
    "        with diffs_path.open('wb') as f:\n",
    "            pkl.dump(diffs, f)\n",
    "        return diffs\n",
    "\n",
    "res = get_diffs()"
   ]
  },
  {
   "cell_type": "markdown",
   "metadata": {},
   "source": [
    "So why are we doing this? A key insight is that as the rank increases, the differences in consecutive scores decreases. In this case, *the difference in scores between the first and the second item is 0.038*, while the difference between the *50th and 51st is 0.0009 - 40 times smaller*.\n"
   ]
  },
  {
   "cell_type": "code",
   "execution_count": 30,
   "metadata": {},
   "outputs": [
    {
     "data": {
      "image/png": "[encoded data removed]",
      "text/plain": [
       "<Figure size 864x360 with 1 Axes>"
      ]
     },
     "metadata": {},
     "output_type": "display_data"
    }
   ],
   "source": [
    "fig ,ax = plt.subplots(figsize=(12,5))\n",
    "sns.despine(ax=ax)\n",
    "ax.plot(res, 'o-')\n",
    "ax.set_title(\"Difference between consecutive scores decreases with rank.\", loc='left', size=16)\n",
    "ax.set_xlabel(\"Rank\")\n",
    "ax.set_ylabel(\"Mean difference\");"
   ]
  },
  {
   "cell_type": "markdown",
   "metadata": {},
   "source": [
    "\n",
    "The small differences are a *symptom of the uncertainty of the model*. Potentially, even if a single user is removed from the dataset, that could reorder a given pair of items. With dither, that uncertainty is somewhat mitigated - lower items get higher exposure at least some of the time.\n",
    "\n",
    "Dither also introduces the following benefits:\n",
    "1. **Freshness** - users get a feel that recommendations are more dynamic, even if a precomputed set is used. Be careful though - the recommendations shouldn't change with every request. It is recommended to use a random seed which is based on a time interval like 5 or 10 minutes. That way recommendations stay consistent for a certain period, but still change from time to time.\n",
    "2. **Diversity and mitigating the popularity bias** - less popular items get a higher exposure.\n",
    "3. **Mitigating the position bias** - even top items are shuffled from time to time. An added benefit is that this shuffling allows **estimating the position bias** since we can see what the performance of a given item would be when presented in different positions.\n",
    "\n",
    "\n",
    "\n",
    "For more details on dither please see https://buildingrecommenders.wordpress.com/2015/11/11/dithering/"
   ]
  },
  {
   "cell_type": "markdown",
   "metadata": {},
   "source": [
    "## Inverse-User Frequency\n",
    "When studying NLP, the concept of tf-idf is one of the first things to come up. Inverse-user frequency is exactly the same concept, but applied to recommender systems. In NLP, the idf component serves to boost keywords and penalize stopwords. Similarly, in recommender systems it serves to highlight the unique tastes of the user as opposed to the mainstream recommendations. \n",
    "\n",
    "The formula is as follows:\n",
    "\n",
    "$$ iuf(movie) = log\\frac{N}{n_{movie}}$$\n",
    "\n",
    "where **N** is the number of users and $\\bf n_{movie}$ is the number of users that rated the given movie.\n",
    "\n",
    "Let's see some scores. Good examples: Mr. Nobody"
   ]
  },
  {
   "cell_type": "code",
   "execution_count": 31,
   "metadata": {},
   "outputs": [],
   "source": [
    "total_users = data.userId.nunique()\n",
    "users_per_movie = data.groupby('movieId2')['userId'].nunique()\n",
    "iuf = np.log(total_users / users_per_movie)\n",
    "iuf.name='iuf'"
   ]
  },
  {
   "cell_type": "code",
   "execution_count": 54,
   "metadata": {},
   "outputs": [
    {
     "data": {
      "application/vnd.jupyter.widget-view+json": {
       "model_id": "74ddd19d5c9340aa8bf44b90516e7990",
       "version_major": 2,
       "version_minor": 0
      },
      "text/plain": [
       "interactive(children=(Text(value='', description='title'), Output()), _dom_classes=('widget-interact',))"
      ]
     },
     "metadata": {},
     "output_type": "display_data"
    }
   ],
   "source": [
    "@interact\n",
    "def explore_iuf(title=''):\n",
    "    merged = pd.merge(iuf, movies, left_index=True, right_index=True)[['title','iuf']]\n",
    "    if title == '':\n",
    "        display(merged)\n",
    "    else:\n",
    "        merged = merged.loc[merged.title.str.lower().str.contains(title.lower())]\n",
    "        display(merged)"
   ]
  },
  {
   "cell_type": "markdown",
   "metadata": {},
   "source": [
    "In order to utilize the inverse user frequency, we just need to multiply the original scores by the inverse user frequency scores."
   ]
  },
  {
   "cell_type": "code",
   "execution_count": 47,
   "metadata": {},
   "outputs": [],
   "source": [
    "def get_similar_to_with_iuf(idx, topn=10):\n",
    "    current_sims = sims[idx].toarray()[0]\n",
    "    with_udf = current_sims * iuf.values\n",
    "    sorted_array = with_udf.argsort()[::-1]\n",
    "    indices = sorted_array\n",
    "    if topn is not None:\n",
    "        indices = sorted_array[:topn]\n",
    "    res = movies.loc[indices]\n",
    "    res['score'] = with_udf[indices]\n",
    "    res['original_score'] = current_sims[indices]\n",
    "    return res"
   ]
  },
  {
   "cell_type": "code",
   "execution_count": 52,
   "metadata": {},
   "outputs": [
    {
     "data": {
      "text/plain": [
       "'No dither'"
      ]
     },
     "metadata": {},
     "output_type": "display_data"
    },
    {
     "data": {
      "application/vnd.jupyter.widget-view+json": {
       "model_id": "edbe6b6d47ae4ada929bf16204d06199",
       "version_major": 2,
       "version_minor": 0
      },
      "text/plain": [
       "interactive(children=(Text(value='Harry Potter and the Sor', description='title'), Output()), _dom_classes=('w…"
      ]
     },
     "metadata": {},
     "output_type": "display_data"
    }
   ],
   "source": [
    "display(\"No dither\")\n",
    "interact(get_similar_to_text, title='Harry Potter and the Sor', sim_fn=fixed(get_similar_to));"
   ]
  },
  {
   "cell_type": "code",
   "execution_count": 53,
   "metadata": {},
   "outputs": [
    {
     "data": {
      "text/plain": [
       "'With dither'"
      ]
     },
     "metadata": {},
     "output_type": "display_data"
    },
    {
     "data": {
      "application/vnd.jupyter.widget-view+json": {
       "model_id": "9102ef2965dc455c95a8d07ea4d1f49f",
       "version_major": 2,
       "version_minor": 0
      },
      "text/plain": [
       "interactive(children=(Text(value='Harry Potter and the Sor', description='title'), Output()), _dom_classes=('w…"
      ]
     },
     "metadata": {},
     "output_type": "display_data"
    }
   ],
   "source": [
    "display(\"With dither\")\n",
    "interact(get_similar_to_text, title='Harry Potter and the Sor', sim_fn=fixed(get_similar_to_with_iuf));"
   ]
  },
  {
   "cell_type": "markdown",
   "metadata": {},
   "source": [
    "The effects of integrating inverse-user frequency is to **mitigate the positional bias, the popularity bias and to increase serendipity**."
   ]
  },
  {
   "cell_type": "markdown",
   "metadata": {},
   "source": [
    "### New Item / User Boost\n",
    "\n",
    "Recommender systems are biased towards older content, because they have been around longer and have had more chances to get ratings and interactions. New content, on the other hand, we know nothing about (yet). This problem is also known as the explore/exploit dillemma - should we recommend safe items that the user will most likely be okay with or can we experiment with wilder recommendations so we can learn more about them.\n",
    "\n",
    "In this case, it helps to boost new content and to additionally boost content from new users. Equivalently, you could also penalize older content.\n",
    "\n",
    "\n"
   ]
  },
  {
   "cell_type": "markdown",
   "metadata": {},
   "source": [
    "### Similarity Penalty\n",
    "\n",
    "So far, we've mostly been looking at individual recommendations, but most often recommendations come in lists. The truth is that we need to optimize the entire list. As we've seen before, recommender systems are pretty good in finding and exploiting similarities. If a given list has **too many similar items**, it has **low diversity**. \n",
    "\n",
    "What could be helpful in this case is to introduce some kind of similarity penalty. Items that are too similar to items that appear higher in the list should be pushed further down."
   ]
  },
  {
   "cell_type": "markdown",
   "metadata": {},
   "source": [
    "### Utility Model\n",
    "\n",
    "A user does not need to go through a recommender system in order to consume an item. In the book [Deep Learning for Coders with Fastai and Pytorch: AI Applications Without a PhD](https://github.com/fastai/fastbook) the authors propose the following idea: **train two models**:\n",
    "1. Train a model that can predict $P(buy| recommend)$\n",
    "2. Train a model that can predict $P(buy| !recommend)$\n",
    "\n",
    "Afterwards, we can define the utility function as $P(buy | recommend) - P(buy| !recommend)$ and sort according to the utility scores for each item.\n",
    "\n",
    "The idea is that a ML model should be providing fresh content that the user is unaware of. It doesn't help to recommend an item that the user would consume whether we show it or not. \n",
    "\n",
    "Let's consider a retail example: everybody buys bananas and our banana buying behaviour is hardly influenced by recommender systems. Let's suppose that $P(buy_{banana}| recommend) = 0.1$ and $P(buy_{banana}| ~recommend) = 0.099$. Then the utility would be $0.001$ which would put it lower in the list. \n",
    "\n",
    "Now, let's focus on movies. Suppose that the user has already seen Harry Potter 1 and Harry Potter 2. Then, the probabilities would most likely be approximately equal $P(HP3 | HP1, HP2, recommend) \\sim P(HP3 | HP1, HP2, !recommend)$, since the user is most probably aware of the series. In that case, it might be more valuable to recommend something like Fantastic Beasts or Narnia or The Hobbit.\n"
   ]
  },
  {
   "cell_type": "markdown",
   "metadata": {},
   "source": [
    "### Pricing considerations\n",
    "\n",
    "So far, we have ignored price, but we have to remember that we are not only helping the customer, but in most cases also trying to increase business revenue.\n",
    "\n",
    "Thus, it might be important to include the price in the equation. Some naive suggestions:\n",
    "1. $Score(x) = P(x) * Price(x)$\n",
    "2. $Score(x) = P(x) * log1p(Price(x))$\n",
    "3. $Score(x) = P(x) * Price(x)^{0.5}$\n",
    "\n",
    "In any case, I would suggest deeper research before diving right in. This one seems like a good start: [Incorporating Profit Margins into Recommender Systems: A\n",
    "Randomized Field Experiment of Purchasing Behavior and\n",
    "Consumer Trust](https://repository.upenn.edu/cgi/viewcontent.cgi?article=1339&context=marketing_papers)"
   ]
  },
  {
   "cell_type": "markdown",
   "metadata": {},
   "source": [
    "## Summary"
   ]
  },
  {
   "cell_type": "code",
   "execution_count": null,
   "metadata": {},
   "outputs": [],
   "source": []
  }
 ],
 "metadata": {
  "kernelspec": {
   "display_name": "Python 3",
   "language": "python",
   "name": "python3"
  },
  "language_info": {
   "codemirror_mode": {
    "name": "ipython",
    "version": 3
   },
   "file_extension": ".py",
   "mimetype": "text/x-python",
   "name": "python",
   "nbconvert_exporter": "python",
   "pygments_lexer": "ipython3",
   "version": "3.8.10"
  }
 },
 "nbformat": 4,
 "nbformat_minor": 4
}
